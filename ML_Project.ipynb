{
  "nbformat": 4,
  "nbformat_minor": 0,
  "metadata": {
    "colab": {
      "provenance": [],
      "authorship_tag": "ABX9TyOVD3RroERYOoVL7VHox5gt",
      "include_colab_link": true
    },
    "kernelspec": {
      "name": "python3",
      "display_name": "Python 3"
    },
    "language_info": {
      "name": "python"
    }
  },
  "cells": [
    {
      "cell_type": "markdown",
      "metadata": {
        "id": "view-in-github",
        "colab_type": "text"
      },
      "source": [
        "<a href=\"https://colab.research.google.com/github/RitikaGupta990/Youtube-adview-Prediction/blob/main/ML_Project.ipynb\" target=\"_parent\"><img src=\"https://colab.research.google.com/assets/colab-badge.svg\" alt=\"Open In Colab\"/></a>"
      ]
    },
    {
      "cell_type": "code",
      "execution_count": null,
      "metadata": {
        "id": "E-WK1ifKhHjh"
      },
      "outputs": [],
      "source": [
        "import numpy as np\n",
        "import pandas as pd\n",
        "import matplotlib.cm as cm\n",
        "import matplotlib.pyplot as plt\n",
        "\n",
        "path = \"/train.csv\"\n",
        "data_train = pd.read_csv(path)\n",
        "\n",
        "data_train.head()\n",
        "\n",
        "data_train.shape\n",
        "\n",
        "category= {'A': 1, 'B': 2, 'C': 3, 'D': 4, 'E': 5, 'F': 6, 'G': 7, 'H': 8}\n",
        "data_train[\"category\"] = data_train[\"category\"].map(category)\n",
        "data_train.head()\n"
      ]
    },
    {
      "cell_type": "code",
      "source": [
        "data_train= data_train[data_train.views != 'F']\n",
        "data_train= data_train[data_train.likes != 'F']\n",
        "data_train= data_train[data_train.dislikes != 'F']\n",
        "data_train= data_train[data_train.comment != 'F']\n",
        "\n",
        "data_train['views']= pd.to_numeric(data_train['views'])\n",
        "data_train['comment']= pd.to_numeric(data_train['comment'])\n",
        "data_train['likes']= pd.to_numeric(data_train['likes'])\n",
        "data_train['dislikes']= pd.to_numeric(data_train['dislikes'])\n",
        "data_train['adview']= pd.to_numeric(data_train['adview'])\n",
        "\n",
        "column_vidid= data_train['vidid']"
      ],
      "metadata": {
        "id": "ZH5JxMdCVFj6"
      },
      "execution_count": null,
      "outputs": []
    },
    {
      "cell_type": "code",
      "source": [
        "from sklearn.preprocessing import LabelEncoder\n",
        "data_train['duration']= LabelEncoder().fit_transform(data_train['duration'])\n",
        "data_train['vidid']= LabelEncoder().fit_transform(data_train['vidid'])\n",
        "data_train['published']= LabelEncoder().fit_transform(data_train['published'])\n",
        "\n",
        "data_train.head()"
      ],
      "metadata": {
        "id": "ggzjyJ6-VF2y"
      },
      "execution_count": null,
      "outputs": []
    },
    {
      "cell_type": "code",
      "source": [
        "import datetime\n",
        "import time\n",
        "\n",
        "def checki(x):\n",
        "  y = x[2:]\n",
        "  h = ''\n",
        "  m = ''\n",
        "  s = ''\n",
        "  mm = ''\n",
        "  P = ['H','M','S']\n",
        "  for i in y:\n",
        "    if i not in P:\n",
        "      mm+=i\n",
        "    else:\n",
        "      if(i==\"H\"):\n",
        "        h = mm\n",
        "        mm = ''\n",
        "      elif(i == \"M\"):\n",
        "        m = mm\n",
        "        mm = ''\n",
        "      else:\n",
        "        s = mm\n",
        "        mm = ''\n",
        "    if(h==''):\n",
        "      h = '00'\n",
        "    if(m == ''):\n",
        "      m = '00'\n",
        "    if(s==''):\n",
        "      s='00'\n",
        "  bp = h+':'+m+':'+s\n",
        "  return bp\n",
        "\n"
      ],
      "metadata": {
        "id": "_FhLjD4NVF_3"
      },
      "execution_count": null,
      "outputs": []
    },
    {
      "cell_type": "code",
      "source": [
        "\n",
        "train = pd.read_csv(\"/train.csv\")\n",
        "mp = pd.read_csv(\"/train.csv\")['duration']\n",
        "time = mp.apply(checki)"
      ],
      "metadata": {
        "id": "r1THzz1LVGDO"
      },
      "execution_count": null,
      "outputs": []
    },
    {
      "cell_type": "code",
      "source": [
        "def func_sec(time_string):\n",
        "    h, m, s = time_string.split(':')\n",
        "    return int(h) * 3600 + int(m) * 60 + int(s)\n",
        "\n",
        "time1 = time.apply(func_sec)\n",
        "\n",
        "data_train['duration'] = time1\n",
        "data_train.head()"
      ],
      "metadata": {
        "id": "g2bbhpmsVGGF"
      },
      "execution_count": null,
      "outputs": []
    },
    {
      "cell_type": "code",
      "source": [
        "plt.hist(data_train[\"category\"])\n",
        "plt.show"
      ],
      "metadata": {
        "id": "GISqP5z7VGI-"
      },
      "execution_count": null,
      "outputs": []
    },
    {
      "cell_type": "code",
      "source": [
        "plt.plot(data_train[\"adview\"])\n",
        "plt.show"
      ],
      "metadata": {
        "id": "tRDkKiWdVGLR"
      },
      "execution_count": null,
      "outputs": []
    },
    {
      "cell_type": "code",
      "source": [
        "data_train= data_train[data_train['adview']<2000000]"
      ],
      "metadata": {
        "id": "FEAYCmUjVGN6"
      },
      "execution_count": null,
      "outputs": []
    },
    {
      "cell_type": "code",
      "source": [
        "import seaborn as sns\n",
        "\n",
        "f, ax = plt.subplots(figsize=(10, 8))\n",
        "corr = data_train.corr()\n",
        "sns.heatmap(corr, mask=np.zeros_like(corr, dtype=bool), cmap=sns.diverging_palette(220, 10, as_cmap=True),square=True, ax=ax, annot=True)\n",
        "plt.show()\n"
      ],
      "metadata": {
        "id": "146-ow2oVGRR"
      },
      "execution_count": null,
      "outputs": []
    },
    {
      "cell_type": "code",
      "source": [
        "Y_train = pd.DataFrame(data = data_train.iloc[:, 1].values, columns = ['target'])\n",
        "data_train = data_train.drop([\"adview\"], axis=1)\n",
        "data_train = data_train.drop([\"vidid\"], axis=1)\n",
        "data_train.head()"
      ],
      "metadata": {
        "id": "3CFNJi6aV1dg"
      },
      "execution_count": null,
      "outputs": []
    },
    {
      "cell_type": "code",
      "source": [
        "from sklearn.model_selection import train_test_split\n",
        "X_train, X_test, Y_train, Y_test = train_test_split(data_train, Y_train, test_size = 0.2, random_state = 42)\n",
        "\n",
        "X_train.shape"
      ],
      "metadata": {
        "colab": {
          "base_uri": "https://localhost:8080/"
        },
        "id": "l2Suehw2V1q-",
        "outputId": "8217e4f8-96d8-481c-8f7f-4702ba9868d3"
      },
      "execution_count": null,
      "outputs": [
        {
          "output_type": "execute_result",
          "data": {
            "text/plain": [
              "(11708, 7)"
            ]
          },
          "metadata": {},
          "execution_count": 53
        }
      ]
    },
    {
      "cell_type": "code",
      "source": [
        "from sklearn.preprocessing import MinMaxScaler\n",
        "scaler = MinMaxScaler()\n",
        "X_train = scaler.fit_transform(X_train)\n",
        "X_test = scaler.transform(X_test)\n"
      ],
      "metadata": {
        "id": "bSKCsbU3V1tr"
      },
      "execution_count": null,
      "outputs": []
    },
    {
      "cell_type": "code",
      "source": [
        "from sklearn import metrics\n",
        "def print_error(X_test, Y_test, model_name):\n",
        "    prediction = model_name.predict(X_test)\n",
        "    print('Mean Absolute Error:', metrics.mean_absolute_error(Y_test, prediction))\n",
        "    print('Mean Squared Error:', metrics.mean_squared_error(Y_test, prediction))\n",
        "    print('Root Mean Squared Error:', np.sqrt(metrics.mean_squared_error(Y_test, prediction)))"
      ],
      "metadata": {
        "id": "Pvt17c-oV1wP"
      },
      "execution_count": null,
      "outputs": []
    },
    {
      "cell_type": "code",
      "source": [
        "from sklearn import linear_model\n",
        "linear_regression = linear_model.LinearRegression()\n",
        "linear_regression.fit(X_train, Y_train)\n",
        "print_error(X_test, Y_test, linear_regression)\n"
      ],
      "metadata": {
        "id": "cvqMvpcCV1y2"
      },
      "execution_count": null,
      "outputs": []
    },
    {
      "cell_type": "code",
      "source": [
        "from sklearn.tree import DecisionTreeRegressor\n",
        "decision_tree = DecisionTreeRegressor()\n",
        "decision_tree.fit(X_train, Y_train)\n",
        "print_error(X_test, Y_test, decision_tree)\n"
      ],
      "metadata": {
        "id": "JHOUpUzOV11Q"
      },
      "execution_count": null,
      "outputs": []
    },
    {
      "cell_type": "code",
      "source": [
        "from sklearn.ensemble import RandomForestRegressor\n",
        "n_estimators = 200\n",
        "max_depth = 25\n",
        "min_samples_split=15\n",
        "min_samples_leaf=2\n",
        "random_forest = RandomForestRegressor(n_estimators = n_estimators, max_depth = max_depth, min_samples_split=min_samples_split)\n",
        "random_forest.fit(X_train, Y_train)\n",
        "print_error(X_test, Y_test, random_forest)"
      ],
      "metadata": {
        "id": "rCYm2t2HV14M"
      },
      "execution_count": null,
      "outputs": []
    },
    {
      "cell_type": "code",
      "source": [
        "from sklearn.svm import SVR\n",
        "Support_Vector_Regression = SVR(kernel='rbf')\n",
        "Support_Vector_Regression.fit(X_train, Y_train)\n",
        "print_error(X_test, Y_test, Support_Vector_Regression)\n"
      ],
      "metadata": {
        "id": "2LA1-EyXV1-A"
      },
      "execution_count": null,
      "outputs": []
    },
    {
      "cell_type": "code",
      "source": [
        "import keras\n",
        "from keras.layers import Dense\n",
        "\n",
        "ann= keras.models.Sequential(\n",
        "    [\n",
        "        Dense(6, activation=\"relu\", input_shape=X_train.shape[1:]),\n",
        "        Dense(6, activation=\"relu\"),\n",
        "        Dense(1)\n",
        "    ]\n",
        ")\n"
      ],
      "metadata": {
        "id": "aw30utjLWeTj"
      },
      "execution_count": null,
      "outputs": []
    },
    {
      "cell_type": "code",
      "source": [
        "optimizer = keras.optimizers.Adam()\n",
        "loss = keras.losses.mean_squared_error\n",
        "ann.compile(optimizer=optimizer, loss=loss, metrics=[\"mean_squared_error\"])\n",
        "\n",
        "history = ann.fit(X_train, Y_train, epochs=100)\n",
        "\n",
        "ann.summary()\n",
        "\n",
        "print_error(X_test, Y_test, ann)"
      ],
      "metadata": {
        "id": "VpxlSiX3WgSJ"
      },
      "execution_count": null,
      "outputs": []
    },
    {
      "cell_type": "code",
      "source": [
        "import joblib\n",
        "joblib.dump(decision_tree, \"decisiontree_youtubeadview.pkl\")\n",
        "\n",
        "ann.save(\"ann_youtubeadview.keras\")"
      ],
      "metadata": {
        "id": "jcDv2xXcWauw"
      },
      "execution_count": null,
      "outputs": []
    },
    {
      "cell_type": "markdown",
      "source": [
        "# New Section"
      ],
      "metadata": {
        "id": "8-PR6giyktWD"
      }
    }
  ]
}